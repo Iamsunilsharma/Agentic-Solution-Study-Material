{
 "cells": [
  {
   "cell_type": "code",
   "execution_count": null,
   "id": "b2bc5785",
   "metadata": {},
   "outputs": [
    {
     "name": "stdout",
     "output_type": "stream",
     "text": [
      "[2025-08-10 19:11:38 -0400] [79969] [INFO] Starting gunicorn 23.0.0\n",
      "[2025-08-10 19:11:38 -0400] [79969] [INFO] Listening at: http://127.0.0.1:5000 (79969)\n",
      "[2025-08-10 19:11:38 -0400] [79969] [INFO] Using worker: sync\n",
      "[2025-08-10 19:11:38 -0400] [79970] [INFO] Booting worker with pid: 79970\n",
      "[2025-08-10 19:11:38 -0400] [79971] [INFO] Booting worker with pid: 79971\n",
      "[2025-08-10 19:11:38 -0400] [79972] [INFO] Booting worker with pid: 79972\n",
      "[2025-08-10 19:11:38 -0400] [79973] [INFO] Booting worker with pid: 79973\n"
     ]
    }
   ],
   "source": [
    "!mlflow ui --port 5000 "
   ]
  }
 ],
 "metadata": {
  "kernelspec": {
   "display_name": "genai",
   "language": "python",
   "name": "python3"
  },
  "language_info": {
   "codemirror_mode": {
    "name": "ipython",
    "version": 3
   },
   "file_extension": ".py",
   "mimetype": "text/x-python",
   "name": "python",
   "nbconvert_exporter": "python",
   "pygments_lexer": "ipython3",
   "version": "3.13.1"
  }
 },
 "nbformat": 4,
 "nbformat_minor": 5
}
