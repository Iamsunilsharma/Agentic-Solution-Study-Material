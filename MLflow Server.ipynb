{
 "cells": [
  {
   "cell_type": "code",
   "execution_count": null,
   "id": "b2bc5785",
   "metadata": {},
   "outputs": [
    {
     "name": "stdout",
     "output_type": "stream",
     "text": [
      "[2025-08-16 18:55:01 -0400] [82182] [INFO] Starting gunicorn 23.0.0\n",
      "[2025-08-16 18:55:01 -0400] [82182] [INFO] Listening at: http://127.0.0.1:5000 (82182)\n",
      "[2025-08-16 18:55:01 -0400] [82182] [INFO] Using worker: sync\n",
      "[2025-08-16 18:55:01 -0400] [82183] [INFO] Booting worker with pid: 82183\n",
      "[2025-08-16 18:55:01 -0400] [82184] [INFO] Booting worker with pid: 82184\n",
      "[2025-08-16 18:55:01 -0400] [82185] [INFO] Booting worker with pid: 82185\n",
      "[2025-08-16 18:55:01 -0400] [82186] [INFO] Booting worker with pid: 82186\n"
     ]
    }
   ],
   "source": [
    "!mlflow ui --port 5000 "
   ]
  }
 ],
 "metadata": {
  "kernelspec": {
   "display_name": "genai",
   "language": "python",
   "name": "python3"
  },
  "language_info": {
   "codemirror_mode": {
    "name": "ipython",
    "version": 3
   },
   "file_extension": ".py",
   "mimetype": "text/x-python",
   "name": "python",
   "nbconvert_exporter": "python",
   "pygments_lexer": "ipython3",
   "version": "3.13.1"
  }
 },
 "nbformat": 4,
 "nbformat_minor": 5
}
