{
 "cells": [
  {
   "cell_type": "code",
   "execution_count": null,
   "id": "b2bc5785",
   "metadata": {},
   "outputs": [
    {
     "name": "stdout",
     "output_type": "stream",
     "text": [
      "[2025-08-16 19:16:25 -0400] [4154] [INFO] Starting gunicorn 23.0.0\n",
      "[2025-08-16 19:16:25 -0400] [4154] [INFO] Listening at: http://127.0.0.1:5000 (4154)\n",
      "[2025-08-16 19:16:25 -0400] [4154] [INFO] Using worker: sync\n",
      "[2025-08-16 19:16:25 -0400] [4155] [INFO] Booting worker with pid: 4155\n",
      "[2025-08-16 19:16:25 -0400] [4156] [INFO] Booting worker with pid: 4156\n",
      "[2025-08-16 19:16:25 -0400] [4157] [INFO] Booting worker with pid: 4157\n",
      "[2025-08-16 19:16:25 -0400] [4158] [INFO] Booting worker with pid: 4158\n"
     ]
    }
   ],
   "source": [
    "!mlflow ui --port 5000 "
   ]
  }
 ],
 "metadata": {
  "kernelspec": {
   "display_name": "genai",
   "language": "python",
   "name": "python3"
  },
  "language_info": {
   "codemirror_mode": {
    "name": "ipython",
    "version": 3
   },
   "file_extension": ".py",
   "mimetype": "text/x-python",
   "name": "python",
   "nbconvert_exporter": "python",
   "pygments_lexer": "ipython3",
   "version": "3.13.1"
  }
 },
 "nbformat": 4,
 "nbformat_minor": 5
}
